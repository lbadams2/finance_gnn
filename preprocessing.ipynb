{
 "metadata": {
  "language_info": {
   "codemirror_mode": {
    "name": "ipython",
    "version": 3
   },
   "file_extension": ".py",
   "mimetype": "text/x-python",
   "name": "python",
   "nbconvert_exporter": "python",
   "pygments_lexer": "ipython3",
   "version": "3.9.2-final"
  },
  "orig_nbformat": 2,
  "kernelspec": {
   "name": "python3",
   "display_name": "Python 3.9.2 64-bit ('finance_gnn': conda)",
   "metadata": {
    "interpreter": {
     "hash": "38ea437e473b4b3d74d4ec1f87379931236573e1a56a436552aa64093a141e40"
    }
   }
  }
 },
 "nbformat": 4,
 "nbformat_minor": 2,
 "cells": [
  {
   "cell_type": "code",
   "execution_count": 2,
   "metadata": {},
   "outputs": [],
   "source": [
    "import matplotlib.pyplot as plt\n",
    "%matplotlib inline\n",
    "import numpy as np\n",
    "import pandas as pd\n",
    "import pandas_datareader as pdr"
   ]
  },
  {
   "cell_type": "code",
   "execution_count": 4,
   "metadata": {},
   "outputs": [],
   "source": [
    "#sp_500_series= web.DataReader('^GSPC', 'yahoo', start='2013-01-01', end='2019-12-31') #['Adj Close']\n",
    "#sp_500_df = sp_500_series.to_frame()\n",
    "#sp_500_np = sp_500_df[['Adj Close']].values"
   ]
  },
  {
   "cell_type": "code",
   "execution_count": 5,
   "metadata": {},
   "outputs": [],
   "source": [
    "table=pd.read_html('https://en.wikipedia.org/wiki/List_of_S%26P_500_companies')\n",
    "wiki_sp500 = table[0]\n",
    "wiki_sp500.to_csv('S&P500-Info.csv')"
   ]
  },
  {
   "cell_type": "code",
   "execution_count": 6,
   "metadata": {},
   "outputs": [],
   "source": [
    "sp_500_symbols = wiki_sp500['Symbol']"
   ]
  },
  {
   "cell_type": "code",
   "execution_count": 8,
   "metadata": {},
   "outputs": [
    {
     "output_type": "stream",
     "name": "stderr",
     "text": [
      "/opt/anaconda3/envs/finance_gnn/lib/python3.9/site-packages/pandas_datareader/base.py:272: SymbolWarning: Failed to read symbol: 'BRK.B', replacing with NaN.\n",
      "  warnings.warn(msg.format(sym), SymbolWarning)\n",
      "/opt/anaconda3/envs/finance_gnn/lib/python3.9/site-packages/pandas_datareader/base.py:272: SymbolWarning: Failed to read symbol: 'BF.B', replacing with NaN.\n",
      "  warnings.warn(msg.format(sym), SymbolWarning)\n",
      "/opt/anaconda3/envs/finance_gnn/lib/python3.9/site-packages/pandas_datareader/base.py:272: SymbolWarning: Failed to read symbol: 'CARR', replacing with NaN.\n",
      "  warnings.warn(msg.format(sym), SymbolWarning)\n",
      "/opt/anaconda3/envs/finance_gnn/lib/python3.9/site-packages/pandas_datareader/base.py:272: SymbolWarning: Failed to read symbol: 'LUMN', replacing with NaN.\n",
      "  warnings.warn(msg.format(sym), SymbolWarning)\n",
      "/opt/anaconda3/envs/finance_gnn/lib/python3.9/site-packages/pandas_datareader/base.py:272: SymbolWarning: Failed to read symbol: 'OTIS', replacing with NaN.\n",
      "  warnings.warn(msg.format(sym), SymbolWarning)\n",
      "/opt/anaconda3/envs/finance_gnn/lib/python3.9/site-packages/pandas_datareader/base.py:272: SymbolWarning: Failed to read symbol: 'VNT', replacing with NaN.\n",
      "  warnings.warn(msg.format(sym), SymbolWarning)\n"
     ]
    }
   ],
   "source": [
    "start_date = pd.Timestamp('2013-01-01')\n",
    "end_date = pd.Timestamp('2019-12-31')\n",
    "historical_prices = pdr.get_data_yahoo(symbols=sp_500_symbols, start=start_date, end=end_date)"
   ]
  },
  {
   "cell_type": "code",
   "execution_count": 11,
   "metadata": {},
   "outputs": [
    {
     "output_type": "execute_result",
     "data": {
      "text/plain": [
       "Date\n",
       "2013-01-02     75.612129\n",
       "2013-01-03     75.524376\n",
       "2013-01-04     76.082802\n",
       "2013-01-07     76.178520\n",
       "2013-01-08     76.186501\n",
       "                 ...    \n",
       "2019-12-24    168.945236\n",
       "2019-12-26    168.859161\n",
       "2019-12-27    169.499847\n",
       "2019-12-30    168.132446\n",
       "2019-12-31    168.696625\n",
       "Name: MMM, Length: 1762, dtype: float64"
      ]
     },
     "metadata": {},
     "execution_count": 11
    }
   ],
   "source": [
    "prices = historical_prices['Adj Close']"
   ]
  },
  {
   "cell_type": "code",
   "execution_count": 28,
   "metadata": {},
   "outputs": [],
   "source": [
    "wiki_relations = pd.read_csv('data/wiki_relations.csv')\n",
    "board_members = pd.read_csv('data/board_members.csv')\n",
    "members = pd.read_csv('data/member.csv')\n",
    "industry_owned = pd.read_csv('data/industry_owned.csv')\n",
    "wiki_relations.drop(columns=['item', 'itemLabel'], inplace=True)\n",
    "board_members.drop(columns=['item', 'itemLabel'], inplace=True)"
   ]
  },
  {
   "cell_type": "code",
   "execution_count": 29,
   "metadata": {},
   "outputs": [],
   "source": [
    "wiki_filtered = wiki_relations.loc[wiki_relations['exchangeLabel'].isin(['NASDAQ','New York Stock Exchange'])]\n",
    "board_filtered = board_members.loc[board_members['exchangeLabel'].isin(['NASDAQ','New York Stock Exchange'])]\n",
    "member_filtered = members.loc[members['exchangeLabel'].isin(['NASDAQ','New York Stock Exchange'])]\n",
    "io_filtered = industry_owned.loc[industry_owned['exchangeLabel'].isin(['NASDAQ','New York Stock Exchange'])]"
   ]
  },
  {
   "cell_type": "code",
   "execution_count": 33,
   "metadata": {},
   "outputs": [],
   "source": [
    "unique_wiki = wiki_filtered['tickerLabel'].unique()\n",
    "unique_board = board_filtered['tickerLabel'].unique()\n",
    "unique_member = member_filtered['tickerLabel'].unique()\n",
    "unique_io = io_filtered['tickerLabel'].unique()"
   ]
  },
  {
   "cell_type": "code",
   "execution_count": 20,
   "metadata": {},
   "outputs": [],
   "source": [
    "# create industry graph\n",
    "industries = io_filtered.groupby('tickerLabel')['industryLabel'].apply(list)\n",
    "industries = industries.reset_index(name='industries')"
   ]
  },
  {
   "cell_type": "code",
   "execution_count": 21,
   "metadata": {},
   "outputs": [],
   "source": [
    "# create owned by graph\n",
    "owned_by = io_filtered.groupby('tickerLabel')['ownedbyLabel'].apply(list)\n",
    "owned_by = owned_by.reset_index(name='ownedby')"
   ]
  },
  {
   "cell_type": "code",
   "execution_count": 31,
   "metadata": {},
   "outputs": [],
   "source": [
    "member = member_filtered.groupby('tickerLabel')['memberLabel'].apply(list)\n",
    "member = member.reset_index(name='members')"
   ]
  },
  {
   "cell_type": "code",
   "execution_count": 34,
   "metadata": {},
   "outputs": [],
   "source": [
    "board_member = board_filtered.groupby('tickerLabel')['boardmemberLabel'].apply(list)\n",
    "board_member = board_member.reset_index(name='board_members')"
   ]
  },
  {
   "cell_type": "code",
   "execution_count": 22,
   "metadata": {},
   "outputs": [],
   "source": [
    "industries.to_csv('data/industries.csv')\n",
    "owned_by.to_csv('data/owned_by.csv')"
   ]
  },
  {
   "cell_type": "code",
   "execution_count": 40,
   "metadata": {},
   "outputs": [],
   "source": [
    "member.to_csv('data/members.csv')\n",
    "board_member.to_csv('data/board_members.csv')"
   ]
  },
  {
   "cell_type": "code",
   "execution_count": 25,
   "metadata": {},
   "outputs": [],
   "source": [
    "num_nodes = len(unique_io)\n",
    "industries_graph = np.zeros((num_nodes, num_nodes))\n",
    "for i in range(num_nodes):\n",
    "    i_set = set(industries.iloc[i]['industries'])\n",
    "    for j in range(i+1, num_nodes):\n",
    "        j_set = set(industries.iloc[j]['industries'])\n",
    "        if bool(set(i_set) & set(j_set)):\n",
    "            industries_graph[i, j] = 1\n"
   ]
  },
  {
   "cell_type": "code",
   "execution_count": 27,
   "metadata": {},
   "outputs": [],
   "source": [
    "num_nodes = len(unique_io)\n",
    "ownedby_graph = np.zeros((num_nodes, num_nodes))\n",
    "for i in range(num_nodes):\n",
    "    i_set = set(owned_by.iloc[i]['ownedby'])\n",
    "    for j in range(i+1, num_nodes):\n",
    "        j_set = set(owned_by.iloc[j]['ownedby'])\n",
    "        if bool(set(i_set) & set(j_set)):\n",
    "            ownedby_graph[i, j] = 1"
   ]
  },
  {
   "cell_type": "code",
   "execution_count": 35,
   "metadata": {},
   "outputs": [],
   "source": [
    "num_nodes = len(unique_board)\n",
    "board_graph = np.zeros((num_nodes, num_nodes))\n",
    "for i in range(num_nodes):\n",
    "    i_set = set(board_member.iloc[i]['board_members'])\n",
    "    for j in range(i+1, num_nodes):\n",
    "        j_set = set(board_member.iloc[j]['board_members'])\n",
    "        if bool(set(i_set) & set(j_set)):\n",
    "            board_graph[i, j] = 1"
   ]
  },
  {
   "cell_type": "code",
   "execution_count": 36,
   "metadata": {},
   "outputs": [],
   "source": [
    "num_nodes = len(unique_member)\n",
    "member_graph = np.zeros((num_nodes, num_nodes))\n",
    "for i in range(num_nodes):\n",
    "    i_set = set(member.iloc[i]['members'])\n",
    "    for j in range(i+1, num_nodes):\n",
    "        j_set = set(member.iloc[j]['members'])\n",
    "        if bool(set(i_set) & set(j_set)):\n",
    "            member_graph[i, j] = 1"
   ]
  },
  {
   "cell_type": "code",
   "execution_count": 39,
   "metadata": {},
   "outputs": [],
   "source": [
    "ind_sum = industries_graph.sum(axis=0).sum() # 106\n",
    "own_sum = ownedby_graph.sum(axis=0).sum() # 876\n",
    "board_sum = board_graph.sum(axis=0).sum() # 6\n",
    "member_sum = member_graph.sum(axis=0).sum() # 1397"
   ]
  },
  {
   "cell_type": "code",
   "execution_count": 41,
   "metadata": {},
   "outputs": [],
   "source": [
    "with open('data/industry_graph.npy', 'wb') as f:\n",
    "    np.save(f, industries_graph)\n",
    "with open('data/ownedby_graph.npy', 'wb') as f:\n",
    "    np.save(f, ownedby_graph)\n",
    "with open('data/member_graph.npy', 'wb') as f:\n",
    "    np.save(f, member_graph)\n",
    "with open('data/board_graph.npy', 'wb') as f:\n",
    "    np.save(f, board_graph)"
   ]
  },
  {
   "cell_type": "code",
   "execution_count": null,
   "metadata": {},
   "outputs": [],
   "source": []
  }
 ]
}